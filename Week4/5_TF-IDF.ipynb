{
 "cells": [
  {
   "cell_type": "code",
   "execution_count": 2,
   "id": "1617cd21",
   "metadata": {},
   "outputs": [],
   "source": [
    "import pandas as pd\n",
    "from sklearn.feature_extraction.text import TfidfVectorizer"
   ]
  },
  {
   "cell_type": "code",
   "execution_count": 3,
   "id": "b944b1e5",
   "metadata": {},
   "outputs": [
    {
     "name": "stdout",
     "output_type": "stream",
     "text": [
      "File berhasil dimuat.\n"
     ]
    }
   ],
   "source": [
    "# Load data\n",
    "try:\n",
    "    df = pd.read_csv('../Week3/bow_features_cleaned.csv')\n",
    "    print(\"File berhasil dimuat.\")\n",
    "except FileNotFoundError:\n",
    "    print(\"File checkpoint tidak ditemukan.\")"
   ]
  },
  {
   "cell_type": "code",
   "execution_count": 4,
   "id": "d83d4d8b",
   "metadata": {},
   "outputs": [
    {
     "name": "stdout",
     "output_type": "stream",
     "text": [
      "\n",
      "--- Representasi TF-IDF (10 Ulasan Pertama) ---\n"
     ]
    },
    {
     "data": {
      "text/html": [
       "<div>\n",
       "<style scoped>\n",
       "    .dataframe tbody tr th:only-of-type {\n",
       "        vertical-align: middle;\n",
       "    }\n",
       "\n",
       "    .dataframe tbody tr th {\n",
       "        vertical-align: top;\n",
       "    }\n",
       "\n",
       "    .dataframe thead th {\n",
       "        text-align: right;\n",
       "    }\n",
       "</style>\n",
       "<table border=\"1\" class=\"dataframe\">\n",
       "  <thead>\n",
       "    <tr style=\"text-align: right;\">\n",
       "      <th></th>\n",
       "      <th>aamiin</th>\n",
       "      <th>abal</th>\n",
       "      <th>abdet</th>\n",
       "      <th>abis</th>\n",
       "      <th>ac</th>\n",
       "      <th>acak</th>\n",
       "      <th>account</th>\n",
       "      <th>accountnya</th>\n",
       "      <th>acount</th>\n",
       "      <th>ad</th>\n",
       "      <th>adain</th>\n",
       "      <th>admin</th>\n",
       "      <th>adminnya</th>\n",
       "      <th>adu</th>\n",
       "      <th>ae</th>\n",
       "    </tr>\n",
       "  </thead>\n",
       "  <tbody>\n",
       "    <tr>\n",
       "      <th>0</th>\n",
       "      <td>1.0</td>\n",
       "      <td>0.0</td>\n",
       "      <td>0.0</td>\n",
       "      <td>0.0</td>\n",
       "      <td>0.0</td>\n",
       "      <td>0.0</td>\n",
       "      <td>0.0</td>\n",
       "      <td>0.0</td>\n",
       "      <td>0.0</td>\n",
       "      <td>0.0</td>\n",
       "      <td>0.0</td>\n",
       "      <td>0.0</td>\n",
       "      <td>0.0</td>\n",
       "      <td>0.0</td>\n",
       "      <td>0.0</td>\n",
       "    </tr>\n",
       "    <tr>\n",
       "      <th>1</th>\n",
       "      <td>0.0</td>\n",
       "      <td>1.0</td>\n",
       "      <td>0.0</td>\n",
       "      <td>0.0</td>\n",
       "      <td>0.0</td>\n",
       "      <td>0.0</td>\n",
       "      <td>0.0</td>\n",
       "      <td>0.0</td>\n",
       "      <td>0.0</td>\n",
       "      <td>0.0</td>\n",
       "      <td>0.0</td>\n",
       "      <td>0.0</td>\n",
       "      <td>0.0</td>\n",
       "      <td>0.0</td>\n",
       "      <td>0.0</td>\n",
       "    </tr>\n",
       "    <tr>\n",
       "      <th>2</th>\n",
       "      <td>0.0</td>\n",
       "      <td>0.0</td>\n",
       "      <td>1.0</td>\n",
       "      <td>0.0</td>\n",
       "      <td>0.0</td>\n",
       "      <td>0.0</td>\n",
       "      <td>0.0</td>\n",
       "      <td>0.0</td>\n",
       "      <td>0.0</td>\n",
       "      <td>0.0</td>\n",
       "      <td>0.0</td>\n",
       "      <td>0.0</td>\n",
       "      <td>0.0</td>\n",
       "      <td>0.0</td>\n",
       "      <td>0.0</td>\n",
       "    </tr>\n",
       "    <tr>\n",
       "      <th>3</th>\n",
       "      <td>0.0</td>\n",
       "      <td>0.0</td>\n",
       "      <td>0.0</td>\n",
       "      <td>1.0</td>\n",
       "      <td>0.0</td>\n",
       "      <td>0.0</td>\n",
       "      <td>0.0</td>\n",
       "      <td>0.0</td>\n",
       "      <td>0.0</td>\n",
       "      <td>0.0</td>\n",
       "      <td>0.0</td>\n",
       "      <td>0.0</td>\n",
       "      <td>0.0</td>\n",
       "      <td>0.0</td>\n",
       "      <td>0.0</td>\n",
       "    </tr>\n",
       "    <tr>\n",
       "      <th>4</th>\n",
       "      <td>0.0</td>\n",
       "      <td>0.0</td>\n",
       "      <td>0.0</td>\n",
       "      <td>0.0</td>\n",
       "      <td>1.0</td>\n",
       "      <td>0.0</td>\n",
       "      <td>0.0</td>\n",
       "      <td>0.0</td>\n",
       "      <td>0.0</td>\n",
       "      <td>0.0</td>\n",
       "      <td>0.0</td>\n",
       "      <td>0.0</td>\n",
       "      <td>0.0</td>\n",
       "      <td>0.0</td>\n",
       "      <td>0.0</td>\n",
       "    </tr>\n",
       "    <tr>\n",
       "      <th>5</th>\n",
       "      <td>0.0</td>\n",
       "      <td>0.0</td>\n",
       "      <td>0.0</td>\n",
       "      <td>0.0</td>\n",
       "      <td>0.0</td>\n",
       "      <td>1.0</td>\n",
       "      <td>0.0</td>\n",
       "      <td>0.0</td>\n",
       "      <td>0.0</td>\n",
       "      <td>0.0</td>\n",
       "      <td>0.0</td>\n",
       "      <td>0.0</td>\n",
       "      <td>0.0</td>\n",
       "      <td>0.0</td>\n",
       "      <td>0.0</td>\n",
       "    </tr>\n",
       "    <tr>\n",
       "      <th>6</th>\n",
       "      <td>0.0</td>\n",
       "      <td>0.0</td>\n",
       "      <td>0.0</td>\n",
       "      <td>0.0</td>\n",
       "      <td>0.0</td>\n",
       "      <td>0.0</td>\n",
       "      <td>1.0</td>\n",
       "      <td>0.0</td>\n",
       "      <td>0.0</td>\n",
       "      <td>0.0</td>\n",
       "      <td>0.0</td>\n",
       "      <td>0.0</td>\n",
       "      <td>0.0</td>\n",
       "      <td>0.0</td>\n",
       "      <td>0.0</td>\n",
       "    </tr>\n",
       "    <tr>\n",
       "      <th>7</th>\n",
       "      <td>0.0</td>\n",
       "      <td>0.0</td>\n",
       "      <td>0.0</td>\n",
       "      <td>0.0</td>\n",
       "      <td>0.0</td>\n",
       "      <td>0.0</td>\n",
       "      <td>0.0</td>\n",
       "      <td>1.0</td>\n",
       "      <td>0.0</td>\n",
       "      <td>0.0</td>\n",
       "      <td>0.0</td>\n",
       "      <td>0.0</td>\n",
       "      <td>0.0</td>\n",
       "      <td>0.0</td>\n",
       "      <td>0.0</td>\n",
       "    </tr>\n",
       "    <tr>\n",
       "      <th>8</th>\n",
       "      <td>0.0</td>\n",
       "      <td>0.0</td>\n",
       "      <td>0.0</td>\n",
       "      <td>0.0</td>\n",
       "      <td>0.0</td>\n",
       "      <td>0.0</td>\n",
       "      <td>0.0</td>\n",
       "      <td>0.0</td>\n",
       "      <td>1.0</td>\n",
       "      <td>0.0</td>\n",
       "      <td>0.0</td>\n",
       "      <td>0.0</td>\n",
       "      <td>0.0</td>\n",
       "      <td>0.0</td>\n",
       "      <td>0.0</td>\n",
       "    </tr>\n",
       "    <tr>\n",
       "      <th>9</th>\n",
       "      <td>0.0</td>\n",
       "      <td>0.0</td>\n",
       "      <td>0.0</td>\n",
       "      <td>0.0</td>\n",
       "      <td>0.0</td>\n",
       "      <td>0.0</td>\n",
       "      <td>0.0</td>\n",
       "      <td>0.0</td>\n",
       "      <td>0.0</td>\n",
       "      <td>1.0</td>\n",
       "      <td>0.0</td>\n",
       "      <td>0.0</td>\n",
       "      <td>0.0</td>\n",
       "      <td>0.0</td>\n",
       "      <td>0.0</td>\n",
       "    </tr>\n",
       "  </tbody>\n",
       "</table>\n",
       "</div>"
      ],
      "text/plain": [
       "   aamiin  abal  abdet  abis   ac  acak  account  accountnya  acount   ad  \\\n",
       "0     1.0   0.0    0.0   0.0  0.0   0.0      0.0         0.0     0.0  0.0   \n",
       "1     0.0   1.0    0.0   0.0  0.0   0.0      0.0         0.0     0.0  0.0   \n",
       "2     0.0   0.0    1.0   0.0  0.0   0.0      0.0         0.0     0.0  0.0   \n",
       "3     0.0   0.0    0.0   1.0  0.0   0.0      0.0         0.0     0.0  0.0   \n",
       "4     0.0   0.0    0.0   0.0  1.0   0.0      0.0         0.0     0.0  0.0   \n",
       "5     0.0   0.0    0.0   0.0  0.0   1.0      0.0         0.0     0.0  0.0   \n",
       "6     0.0   0.0    0.0   0.0  0.0   0.0      1.0         0.0     0.0  0.0   \n",
       "7     0.0   0.0    0.0   0.0  0.0   0.0      0.0         1.0     0.0  0.0   \n",
       "8     0.0   0.0    0.0   0.0  0.0   0.0      0.0         0.0     1.0  0.0   \n",
       "9     0.0   0.0    0.0   0.0  0.0   0.0      0.0         0.0     0.0  1.0   \n",
       "\n",
       "   adain  admin  adminnya  adu   ae  \n",
       "0    0.0    0.0       0.0  0.0  0.0  \n",
       "1    0.0    0.0       0.0  0.0  0.0  \n",
       "2    0.0    0.0       0.0  0.0  0.0  \n",
       "3    0.0    0.0       0.0  0.0  0.0  \n",
       "4    0.0    0.0       0.0  0.0  0.0  \n",
       "5    0.0    0.0       0.0  0.0  0.0  \n",
       "6    0.0    0.0       0.0  0.0  0.0  \n",
       "7    0.0    0.0       0.0  0.0  0.0  \n",
       "8    0.0    0.0       0.0  0.0  0.0  \n",
       "9    0.0    0.0       0.0  0.0  0.0  "
      ]
     },
     "metadata": {},
     "output_type": "display_data"
    }
   ],
   "source": [
    "# Inisialisasi TfidfVectorizer\n",
    "tfidf_vectorizer = TfidfVectorizer()\n",
    "\n",
    "# Buat matriks TF-IDF\n",
    "tfidf_matrix = tfidf_vectorizer.fit_transform(df)\n",
    "\n",
    "# Tampilkan hasilnya dalam bentuk DataFrame\n",
    "tfidf_df = pd.DataFrame(tfidf_matrix.toarray(), columns=tfidf_vectorizer.get_feature_names_out())\n",
    "\n",
    "print(\"\\n--- Representasi TF-IDF (10 Ulasan Pertama) ---\")\n",
    "display(tfidf_df.iloc[:10, :15])"
   ]
  },
  {
   "cell_type": "code",
   "execution_count": 5,
   "id": "ede71baa",
   "metadata": {},
   "outputs": [
    {
     "name": "stdout",
     "output_type": "stream",
     "text": [
      "\n",
      "Matriks TF-IDF berhasil dibuat dan disimpan sebagai 'tfidf.csv'.\n",
      "Ukuran matriks: 1686 ulasan, 1686 kata unik.\n"
     ]
    }
   ],
   "source": [
    "# 5. Simpan hasil\n",
    "TFIDF_FILE = 'tfidf.csv'\n",
    "tfidf_df.to_csv(TFIDF_FILE, index=False)\n",
    "print(f\"\\nMatriks TF-IDF berhasil dibuat dan disimpan sebagai '{TFIDF_FILE}'.\")\n",
    "print(f\"Ukuran matriks: {tfidf_matrix.shape[0]} ulasan, {tfidf_matrix.shape[1]} kata unik.\")"
   ]
  },
  {
   "cell_type": "code",
   "execution_count": 6,
   "id": "339f0351",
   "metadata": {},
   "outputs": [],
   "source": [
    "import pandas as pd\n",
    "from sklearn.model_selection import train_test_split\n",
    "from sklearn.naive_bayes import MultinomialNB\n",
    "from sklearn.metrics import accuracy_score, classification_report, confusion_matrix\n",
    "import seaborn as sns\n",
    "import matplotlib.pyplot as plt"
   ]
  },
  {
   "cell_type": "code",
   "execution_count": 7,
   "id": "894ffc1f",
   "metadata": {},
   "outputs": [
    {
     "name": "stdout",
     "output_type": "stream",
     "text": [
      "Data fitur (X) dan target (y) berhasil dimuat dan diselaraskan.\n",
      "Jumlah data yang akan digunakan: 3928 ulasan.\n"
     ]
    }
   ],
   "source": [
    "try:\n",
    "    # Load data fitur (X) dari BoW yang sudah bersih\n",
    "    X = pd.read_csv('../Week3/bow_features_cleaned.csv')\n",
    "    \n",
    "    # Muat data asli untuk mendapatkan label sentimen (y)\n",
    "    df_labels = pd.read_csv('../Week2/df_rosaliarev_custom_stopwords.csv')\n",
    "    y = df_labels['sentiment']\n",
    "    \n",
    "    # Menghapus baris di mana sentimen adalah NaN (jika ada)\n",
    "    # dan menyelaraskan X dan y\n",
    "    valid_indices = y.notna()\n",
    "    y = y[valid_indices]\n",
    "    X = X[valid_indices]\n",
    "\n",
    "    print(\"Data fitur (X) dan target (y) berhasil dimuat dan diselaraskan.\")\n",
    "    print(f\"Jumlah data yang akan digunakan: {len(y)} ulasan.\")\n",
    "\n",
    "except FileNotFoundError as e:\n",
    "    print(f\"Error: File tidak ditemukan. {e}\")\n",
    "    # Hentikan eksekusi jika file tidak ada\n",
    "    exit()"
   ]
  },
  {
   "cell_type": "code",
   "execution_count": 8,
   "id": "84b330e6",
   "metadata": {},
   "outputs": [
    {
     "name": "stdout",
     "output_type": "stream",
     "text": [
      "\n",
      "Data dibagi menjadi 3142 data latih dan 786 data uji.\n"
     ]
    }
   ],
   "source": [
    "# Membagi Data\n",
    "# Kita bagi data menjadi 80% untuk melatih model dan 20% untuk menguji\n",
    "X_train, X_test, y_train, y_test = train_test_split(\n",
    "    X, y, \n",
    "    test_size=0.2, \n",
    "    random_state=42, # random_state agar hasil pembagian data selalu sama\n",
    "    stratify=y # stratify untuk memastikan proporsi sentimen sama di data train & test\n",
    ")\n",
    "\n",
    "print(f\"\\nData dibagi menjadi {len(X_train)} data latih dan {len(X_test)} data uji.\")"
   ]
  },
  {
   "cell_type": "code",
   "execution_count": 9,
   "id": "07101264",
   "metadata": {},
   "outputs": [
    {
     "name": "stdout",
     "output_type": "stream",
     "text": [
      "\n",
      "Model Naive Bayes berhasil dilatih.\n"
     ]
    }
   ],
   "source": [
    "# Melatih Model Naive Bayes\n",
    "# Kita menggunakan MultinomialNB yang cocok\n",
    "model = MultinomialNB()\n",
    "model.fit(X_train, y_train)\n",
    "\n",
    "print(\"\\nModel Naive Bayes berhasil dilatih.\")"
   ]
  },
  {
   "cell_type": "code",
   "execution_count": 10,
   "id": "b9bb5fd6",
   "metadata": {},
   "outputs": [
    {
     "name": "stdout",
     "output_type": "stream",
     "text": [
      "\n",
      "--- Hasil Evaluasi Model ---\n",
      "Akurasi Model: 76.84%\n",
      "\n",
      "Laporan Klasifikasi:\n",
      "              precision    recall  f1-score   support\n",
      "\n",
      "     Negatif       0.77      0.79      0.78       336\n",
      "      Netral       0.28      0.10      0.15        68\n",
      "     Positif       0.80      0.87      0.83       382\n",
      "\n",
      "    accuracy                           0.77       786\n",
      "   macro avg       0.62      0.59      0.59       786\n",
      "weighted avg       0.74      0.77      0.75       786\n",
      "\n",
      "\n",
      "Confusion Matrix:\n"
     ]
    },
    {
     "data": {
      "image/png": "[encoded data removed]",
      "text/plain": [
       "<Figure size 640x480 with 2 Axes>"
      ]
     },
     "metadata": {},
     "output_type": "display_data"
    }
   ],
   "source": [
    "# Mengevaluasi Model\n",
    "# Lakukan prediksi pada data uji\n",
    "y_pred = model.predict(X_test)\n",
    "\n",
    "# Hitung akurasi\n",
    "accuracy = accuracy_score(y_test, y_pred)\n",
    "print(f\"\\n--- Hasil Evaluasi Model ---\")\n",
    "print(f\"Akurasi Model: {accuracy:.2%}\")\n",
    "\n",
    "# Tampilkan Laporan Klasifikasi (Precision, Recall, F1-Score)\n",
    "print(\"\\nLaporan Klasifikasi:\")\n",
    "print(classification_report(y_test, y_pred))\n",
    "\n",
    "# Tampilkan Confusion Matrix\n",
    "print(\"\\nConfusion Matrix:\")\n",
    "cm = confusion_matrix(y_test, y_pred, labels=['Positif', 'Netral', 'Negatif'])\n",
    "sns.heatmap(cm, annot=True, fmt='d', cmap='Blues', \n",
    "            xticklabels=['Positif', 'Netral', 'Negatif'], \n",
    "            yticklabels=['Positif', 'Netral', 'Negatif'])\n",
    "plt.xlabel('Prediksi Model')\n",
    "plt.ylabel('Aktual (Sebenarnya)')\n",
    "plt.title('Confusion Matrix')\n",
    "plt.show()"
   ]
  },
  {
   "cell_type": "code",
   "execution_count": 15,
   "id": "bc6335fc",
   "metadata": {},
   "outputs": [
    {
     "name": "stdout",
     "output_type": "stream",
     "text": [
      "Data fitur (TF-IDF) dan target (y) berhasil dimuat.\n",
      "Jumlah data yang akan digunakan: 3928 ulasan.\n"
     ]
    },
    {
     "name": "stderr",
     "output_type": "stream",
     "text": [
      "C:\\Users\\Wede\\AppData\\Local\\Temp\\ipykernel_46492\\1160514609.py:13: UserWarning: Boolean Series key will be reindexed to match DataFrame index.\n",
      "  X_tfidf = X_tfidf[valid_indices]\n"
     ]
    }
   ],
   "source": [
    "# Mempersiapkan Data\n",
    "try:\n",
    "    # Mengganti sumber data fitur (X) menjadi hasil TF-IDF\n",
    "    X_tfidf = pd.read_csv('tfidf.csv')\n",
    "    \n",
    "    # Muat data asli untuk mendapatkan label sentimen (y)\n",
    "    df_labels = pd.read_csv('../Week2/df_rosaliarev_custom_stopwords.csv')\n",
    "    y_tfidf = df_labels['sentiment']\n",
    "    \n",
    "    # Menyelaraskan X dan y (menghapus baris NaN jika ada)\n",
    "    valid_indices = y_tfidf.notna()\n",
    "    y_tfidf = y_tfidf[valid_indices]\n",
    "    X_tfidf = X_tfidf[valid_indices]\n",
    "\n",
    "    print(\"Data fitur (TF-IDF) dan target (y) berhasil dimuat.\")\n",
    "    print(f\"Jumlah data yang akan digunakan: {len(y_tfidf)} ulasan.\")\n",
    "\n",
    "except FileNotFoundError as e:\n",
    "    print(f\"Error: File tidak ditemukan. {e}\")\n",
    "    # Hentikan eksekusi jika file tidak ada\n",
    "    exit()"
   ]
  },
  {
   "cell_type": "code",
   "execution_count": 16,
   "id": "3f4b22b2",
   "metadata": {},
   "outputs": [
    {
     "ename": "ValueError",
     "evalue": "Found input variables with inconsistent numbers of samples: [1686, 3928]",
     "output_type": "error",
     "traceback": [
      "\u001b[31m---------------------------------------------------------------------------\u001b[39m",
      "\u001b[31mValueError\u001b[39m                                Traceback (most recent call last)",
      "\u001b[36mCell\u001b[39m\u001b[36m \u001b[39m\u001b[32mIn[16]\u001b[39m\u001b[32m, line 2\u001b[39m\n\u001b[32m      1\u001b[39m \u001b[38;5;66;03m# Membagi Data \u001b[39;00m\n\u001b[32m----> \u001b[39m\u001b[32m2\u001b[39m X_train, X_test, y_train, y_test = \u001b[43mtrain_test_split\u001b[49m\u001b[43m(\u001b[49m\n\u001b[32m      3\u001b[39m \u001b[43m    \u001b[49m\u001b[43mX_tfidf\u001b[49m\u001b[43m,\u001b[49m\u001b[43m \u001b[49m\u001b[43my_tfidf\u001b[49m\u001b[43m,\u001b[49m\u001b[43m \u001b[49m\n\u001b[32m      4\u001b[39m \u001b[43m    \u001b[49m\u001b[43mtest_size\u001b[49m\u001b[43m=\u001b[49m\u001b[32;43m0.2\u001b[39;49m\u001b[43m,\u001b[49m\u001b[43m \u001b[49m\n\u001b[32m      5\u001b[39m \u001b[43m    \u001b[49m\u001b[43mrandom_state\u001b[49m\u001b[43m=\u001b[49m\u001b[32;43m42\u001b[39;49m\u001b[43m,\u001b[49m\u001b[43m \u001b[49m\n\u001b[32m      6\u001b[39m \u001b[43m    \u001b[49m\u001b[43mstratify\u001b[49m\u001b[43m=\u001b[49m\u001b[43my_tfidf\u001b[49m\n\u001b[32m      7\u001b[39m \u001b[43m)\u001b[49m\n\u001b[32m      9\u001b[39m \u001b[38;5;28mprint\u001b[39m(\u001b[33mf\u001b[39m\u001b[33m\"\u001b[39m\u001b[38;5;130;01m\\n\u001b[39;00m\u001b[33mData dibagi menjadi \u001b[39m\u001b[38;5;132;01m{\u001b[39;00m\u001b[38;5;28mlen\u001b[39m(X_train)\u001b[38;5;132;01m}\u001b[39;00m\u001b[33m data latih dan \u001b[39m\u001b[38;5;132;01m{\u001b[39;00m\u001b[38;5;28mlen\u001b[39m(X_test)\u001b[38;5;132;01m}\u001b[39;00m\u001b[33m data uji.\u001b[39m\u001b[33m\"\u001b[39m)\n",
      "\u001b[36mFile \u001b[39m\u001b[32m~\\AppData\\Roaming\\Python\\Python313\\site-packages\\sklearn\\utils\\_param_validation.py:218\u001b[39m, in \u001b[36mvalidate_params.<locals>.decorator.<locals>.wrapper\u001b[39m\u001b[34m(*args, **kwargs)\u001b[39m\n\u001b[32m    212\u001b[39m \u001b[38;5;28;01mtry\u001b[39;00m:\n\u001b[32m    213\u001b[39m     \u001b[38;5;28;01mwith\u001b[39;00m config_context(\n\u001b[32m    214\u001b[39m         skip_parameter_validation=(\n\u001b[32m    215\u001b[39m             prefer_skip_nested_validation \u001b[38;5;129;01mor\u001b[39;00m global_skip_validation\n\u001b[32m    216\u001b[39m         )\n\u001b[32m    217\u001b[39m     ):\n\u001b[32m--> \u001b[39m\u001b[32m218\u001b[39m         \u001b[38;5;28;01mreturn\u001b[39;00m \u001b[43mfunc\u001b[49m\u001b[43m(\u001b[49m\u001b[43m*\u001b[49m\u001b[43margs\u001b[49m\u001b[43m,\u001b[49m\u001b[43m \u001b[49m\u001b[43m*\u001b[49m\u001b[43m*\u001b[49m\u001b[43mkwargs\u001b[49m\u001b[43m)\u001b[49m\n\u001b[32m    219\u001b[39m \u001b[38;5;28;01mexcept\u001b[39;00m InvalidParameterError \u001b[38;5;28;01mas\u001b[39;00m e:\n\u001b[32m    220\u001b[39m     \u001b[38;5;66;03m# When the function is just a wrapper around an estimator, we allow\u001b[39;00m\n\u001b[32m    221\u001b[39m     \u001b[38;5;66;03m# the function to delegate validation to the estimator, but we replace\u001b[39;00m\n\u001b[32m    222\u001b[39m     \u001b[38;5;66;03m# the name of the estimator by the name of the function in the error\u001b[39;00m\n\u001b[32m    223\u001b[39m     \u001b[38;5;66;03m# message to avoid confusion.\u001b[39;00m\n\u001b[32m    224\u001b[39m     msg = re.sub(\n\u001b[32m    225\u001b[39m         \u001b[33mr\u001b[39m\u001b[33m\"\u001b[39m\u001b[33mparameter of \u001b[39m\u001b[33m\\\u001b[39m\u001b[33mw+ must be\u001b[39m\u001b[33m\"\u001b[39m,\n\u001b[32m    226\u001b[39m         \u001b[33mf\u001b[39m\u001b[33m\"\u001b[39m\u001b[33mparameter of \u001b[39m\u001b[38;5;132;01m{\u001b[39;00mfunc.\u001b[34m__qualname__\u001b[39m\u001b[38;5;132;01m}\u001b[39;00m\u001b[33m must be\u001b[39m\u001b[33m\"\u001b[39m,\n\u001b[32m    227\u001b[39m         \u001b[38;5;28mstr\u001b[39m(e),\n\u001b[32m    228\u001b[39m     )\n",
      "\u001b[36mFile \u001b[39m\u001b[32m~\\AppData\\Roaming\\Python\\Python313\\site-packages\\sklearn\\model_selection\\_split.py:2916\u001b[39m, in \u001b[36mtrain_test_split\u001b[39m\u001b[34m(test_size, train_size, random_state, shuffle, stratify, *arrays)\u001b[39m\n\u001b[32m   2913\u001b[39m \u001b[38;5;28;01mif\u001b[39;00m n_arrays == \u001b[32m0\u001b[39m:\n\u001b[32m   2914\u001b[39m     \u001b[38;5;28;01mraise\u001b[39;00m \u001b[38;5;167;01mValueError\u001b[39;00m(\u001b[33m\"\u001b[39m\u001b[33mAt least one array required as input\u001b[39m\u001b[33m\"\u001b[39m)\n\u001b[32m-> \u001b[39m\u001b[32m2916\u001b[39m arrays = \u001b[43mindexable\u001b[49m\u001b[43m(\u001b[49m\u001b[43m*\u001b[49m\u001b[43marrays\u001b[49m\u001b[43m)\u001b[49m\n\u001b[32m   2918\u001b[39m n_samples = _num_samples(arrays[\u001b[32m0\u001b[39m])\n\u001b[32m   2919\u001b[39m n_train, n_test = _validate_shuffle_split(\n\u001b[32m   2920\u001b[39m     n_samples, test_size, train_size, default_test_size=\u001b[32m0.25\u001b[39m\n\u001b[32m   2921\u001b[39m )\n",
      "\u001b[36mFile \u001b[39m\u001b[32m~\\AppData\\Roaming\\Python\\Python313\\site-packages\\sklearn\\utils\\validation.py:530\u001b[39m, in \u001b[36mindexable\u001b[39m\u001b[34m(*iterables)\u001b[39m\n\u001b[32m    500\u001b[39m \u001b[38;5;250m\u001b[39m\u001b[33;03m\"\"\"Make arrays indexable for cross-validation.\u001b[39;00m\n\u001b[32m    501\u001b[39m \n\u001b[32m    502\u001b[39m \u001b[33;03mChecks consistent length, passes through None, and ensures that everything\u001b[39;00m\n\u001b[32m   (...)\u001b[39m\u001b[32m    526\u001b[39m \u001b[33;03m[[1, 2, 3], array([2, 3, 4]), None, <...Sparse...dtype 'int64'...shape (3, 1)>]\u001b[39;00m\n\u001b[32m    527\u001b[39m \u001b[33;03m\"\"\"\u001b[39;00m\n\u001b[32m    529\u001b[39m result = [_make_indexable(X) \u001b[38;5;28;01mfor\u001b[39;00m X \u001b[38;5;129;01min\u001b[39;00m iterables]\n\u001b[32m--> \u001b[39m\u001b[32m530\u001b[39m \u001b[43mcheck_consistent_length\u001b[49m\u001b[43m(\u001b[49m\u001b[43m*\u001b[49m\u001b[43mresult\u001b[49m\u001b[43m)\u001b[49m\n\u001b[32m    531\u001b[39m \u001b[38;5;28;01mreturn\u001b[39;00m result\n",
      "\u001b[36mFile \u001b[39m\u001b[32m~\\AppData\\Roaming\\Python\\Python313\\site-packages\\sklearn\\utils\\validation.py:473\u001b[39m, in \u001b[36mcheck_consistent_length\u001b[39m\u001b[34m(*arrays)\u001b[39m\n\u001b[32m    471\u001b[39m lengths = [_num_samples(X) \u001b[38;5;28;01mfor\u001b[39;00m X \u001b[38;5;129;01min\u001b[39;00m arrays \u001b[38;5;28;01mif\u001b[39;00m X \u001b[38;5;129;01mis\u001b[39;00m \u001b[38;5;129;01mnot\u001b[39;00m \u001b[38;5;28;01mNone\u001b[39;00m]\n\u001b[32m    472\u001b[39m \u001b[38;5;28;01mif\u001b[39;00m \u001b[38;5;28mlen\u001b[39m(\u001b[38;5;28mset\u001b[39m(lengths)) > \u001b[32m1\u001b[39m:\n\u001b[32m--> \u001b[39m\u001b[32m473\u001b[39m     \u001b[38;5;28;01mraise\u001b[39;00m \u001b[38;5;167;01mValueError\u001b[39;00m(\n\u001b[32m    474\u001b[39m         \u001b[33m\"\u001b[39m\u001b[33mFound input variables with inconsistent numbers of samples: \u001b[39m\u001b[38;5;132;01m%r\u001b[39;00m\u001b[33m\"\u001b[39m\n\u001b[32m    475\u001b[39m         % [\u001b[38;5;28mint\u001b[39m(l) \u001b[38;5;28;01mfor\u001b[39;00m l \u001b[38;5;129;01min\u001b[39;00m lengths]\n\u001b[32m    476\u001b[39m     )\n",
      "\u001b[31mValueError\u001b[39m: Found input variables with inconsistent numbers of samples: [1686, 3928]"
     ]
    }
   ],
   "source": [
    "# Membagi Data \n",
    "X_train, X_test, y_train, y_test = train_test_split(\n",
    "    X_tfidf, y_tfidf, \n",
    "    test_size=0.2, \n",
    "    random_state=42, \n",
    "    stratify=y_tfidf\n",
    ")\n",
    "\n",
    "print(f\"\\nData dibagi menjadi {len(X_train)} data latih dan {len(X_test)} data uji.\")"
   ]
  },
  {
   "cell_type": "code",
   "execution_count": null,
   "id": "fc24cade",
   "metadata": {},
   "outputs": [],
   "source": [
    "# Melatih Model Naive Bayes dengan data TF-IDF\n",
    "model_tfidf = MultinomialNB()\n",
    "model_tfidf.fit(X_train, y_train)\n",
    "\n",
    "print(\"\\nModel Naive Bayes (TF-IDF) berhasil dilatih.\")"
   ]
  },
  {
   "cell_type": "code",
   "execution_count": null,
   "id": "2389b683",
   "metadata": {},
   "outputs": [],
   "source": [
    "# Mengevaluasi Model\n",
    "y_pred_tfidf = model_tfidf.predict(X_test)\n",
    "\n",
    "# Hitung akurasi\n",
    "accuracy_tfidf = accuracy_score(y_test, y_pred_tfidf)\n",
    "print(f\"\\n--- Hasil Evaluasi Model (TF-IDF) ---\")\n",
    "print(f\"Akurasi Model: {accuracy_tfidf:.2%}\")\n",
    "\n",
    "# Tampilkan Laporan Klasifikasi\n",
    "print(\"\\nLaporan Klasifikasi (TF-IDF):\")\n",
    "print(classification_report(y_test, y_pred_tfidf))\n",
    "\n",
    "# Tampilkan Confusion Matrix\n",
    "print(\"\\nConfusion Matrix (TF-IDF):\")\n",
    "cm_tfidf = confusion_matrix(y_test, y_pred_tfidf, labels=['Positif', 'Netral', 'Negatif'])\n",
    "sns.heatmap(cm_tfidf, annot=True, fmt='d', cmap='Greens', \n",
    "            xticklabels=['Positif', 'Netral', 'Negatif'], \n",
    "            yticklabels=['Positif', 'Netral', 'Negatif'])\n",
    "plt.xlabel('Prediksi Model')\n",
    "plt.ylabel('Aktual (Sebenarnya)')\n",
    "plt.title('Confusion Matrix (TF-IDF)')\n",
    "plt.show()"
   ]
  }
 ],
 "metadata": {
  "kernelspec": {
   "display_name": "Python 3",
   "language": "python",
   "name": "python3"
  },
  "language_info": {
   "codemirror_mode": {
    "name": "ipython",
    "version": 3
   },
   "file_extension": ".py",
   "mimetype": "text/x-python",
   "name": "python",
   "nbconvert_exporter": "python",
   "pygments_lexer": "ipython3",
   "version": "3.13.3"
  }
 },
 "nbformat": 4,
 "nbformat_minor": 5
}
