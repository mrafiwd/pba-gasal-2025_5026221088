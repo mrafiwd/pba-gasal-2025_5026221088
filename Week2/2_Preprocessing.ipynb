{
 "cells": [
  {
   "cell_type": "code",
   "execution_count": 1,
   "id": "2e02e584",
   "metadata": {},
   "outputs": [],
   "source": [
    "# Instalasi Library\n",
    "!pip install pandas nltk requests Sastrawi -q"
   ]
  },
  {
   "cell_type": "code",
   "execution_count": 2,
   "id": "f068f0d1",
   "metadata": {},
   "outputs": [],
   "source": [
    "import pandas as pd\n",
    "import re\n",
    "import nltk\n",
    "from nltk.tokenize import word_tokenize\n",
    "from Sastrawi.StopWordRemover.StopWordRemoverFactory import StopWordRemoverFactory\n",
    "from Sastrawi.Stemmer.StemmerFactory import StemmerFactory"
   ]
  },
  {
   "cell_type": "code",
   "execution_count": 9,
   "id": "10abe277",
   "metadata": {},
   "outputs": [
    {
     "name": "stdout",
     "output_type": "stream",
     "text": [
      "File berhasil dimuat.\n",
      "                                             content  score  thumbsUpCount  \\\n",
      "0  apk ini cukup memuaskan 1. menjauhi calo tiket...      5              0   \n",
      "1  pihak rosalia indah tidak bertanggung jawab da...      1              0   \n",
      "2          mantap kalo bisa Adain rute Cilegon lasem      5              0   \n",
      "3  Aplikasinya bagus. Tapi tolong paging di scree...      2              0   \n",
      "4  apknya tidak bisa login via nomor telpon,untuk...      3              0   \n",
      "\n",
      "  reviewCreatedVersion                   at  \n",
      "0               2.16.0  2025-09-21 12:59:22  \n",
      "1                  NaN  2025-09-21 03:14:45  \n",
      "2               2.13.0  2025-09-18 23:33:47  \n",
      "3               2.16.0  2025-09-15 18:01:52  \n",
      "4                  NaN  2025-09-14 20:26:29  \n"
     ]
    }
   ],
   "source": [
    "try:\n",
    "    nltk.data.find('tokenizers/punkt')\n",
    "except nltk.downloader.DownloadError:\n",
    "    nltk.download('punkt')\n",
    "\n",
    "# 1. Muat Data Mentah\n",
    "try:\n",
    "    df = pd.read_csv('df_rosaliarev_raw.csv')\n",
    "    print(\"File berhasil dimuat.\")\n",
    "except FileNotFoundError:\n",
    "    print(\"Error: File tidak ditemukan. Pastikan file berada di direktori yang sama.\")\n",
    "\n",
    "# Membuat salinan untuk menjaga data asli\n",
    "df_clean = df.copy()\n",
    "print(df_clean.head())"
   ]
  },
  {
   "cell_type": "code",
   "execution_count": 10,
   "id": "455dfb27",
   "metadata": {},
   "outputs": [
    {
     "name": "stdout",
     "output_type": "stream",
     "text": [
      "0    apk ini cukup memuaskan 1. menjauhi calo tiket...\n",
      "1    pihak rosalia indah tidak bertanggung jawab da...\n",
      "2            mantap kalo bisa adain rute cilegon lasem\n",
      "3    aplikasinya bagus. tapi tolong paging di scree...\n",
      "4    apknya tidak bisa login via nomor telpon,untuk...\n",
      "Name: cleaned_content, dtype: object\n"
     ]
    }
   ],
   "source": [
    "# 2. Case Folding (Lowering)\n",
    "df_clean['cleaned_content'] = df_clean['content'].astype(str).str.lower()\n",
    "print(df_clean['cleaned_content'].head())"
   ]
  },
  {
   "cell_type": "code",
   "execution_count": 11,
   "id": "729807ab",
   "metadata": {},
   "outputs": [
    {
     "name": "stdout",
     "output_type": "stream",
     "text": [
      "0    apk ini cukup memuaskan menjauhi calo tiket ha...\n",
      "1    pihak rosalia indah tidak bertanggung jawab da...\n",
      "2            mantap kalo bisa adain rute cilegon lasem\n",
      "3    aplikasinya bagus tapi tolong paging di screen...\n",
      "4    apknya tidak bisa login via nomor telponuntuk ...\n",
      "Name: cleaned_content, dtype: object\n"
     ]
    }
   ],
   "source": [
    "# 3. Punctuation & Number Removal\n",
    "def clean_text(text):\n",
    "    text = re.sub(r'[^a-zA-Z\\s]', '', text) # Hapus semua karakter kecuali huruf dan spasi\n",
    "    text = re.sub(r'\\s+', ' ', text).strip() # Hapus spasi berlebih\n",
    "    return text\n",
    "\n",
    "df_clean['cleaned_content'] = df_clean['cleaned_content'].apply(clean_text)\n",
    "\n",
    "print(df_clean['cleaned_content'].head())"
   ]
  },
  {
   "cell_type": "code",
   "execution_count": 13,
   "id": "df9a3407",
   "metadata": {},
   "outputs": [
    {
     "name": "stdout",
     "output_type": "stream",
     "text": [
      "0    [apk, ini, cukup, memuaskan, menjauhi, calo, t...\n",
      "1    [pihak, rosalia, indah, tidak, bertanggung, ja...\n",
      "2    [mantap, kalo, bisa, adain, rute, cilegon, lasem]\n",
      "3    [aplikasinya, bagus, tapi, tolong, paging, di,...\n",
      "4    [apknya, tidak, bisa, login, via, nomor, telpo...\n",
      "Name: tokens, dtype: object\n"
     ]
    }
   ],
   "source": [
    "# 4. Tokenization\n",
    "df_clean['tokens'] = df_clean['cleaned_content'].apply(word_tokenize)\n",
    "\n",
    "print(df_clean['tokens'].head())"
   ]
  },
  {
   "cell_type": "code",
   "execution_count": 14,
   "id": "1e8dd586",
   "metadata": {},
   "outputs": [
    {
     "name": "stdout",
     "output_type": "stream",
     "text": [
      "0    [apk, memuaskan, menjauhi, calo, tiket, harga,...\n",
      "1    [rosalia, indah, bertanggung, menyalahkan, pel...\n",
      "2          [mantap, kalo, adain, rute, cilegon, lasem]\n",
      "3    [aplikasinya, bagus, tolong, paging, screen, h...\n",
      "4    [apknya, login, via, nomor, telponuntuk, devel...\n",
      "Name: tokens_no_stopwords, dtype: object\n"
     ]
    }
   ],
   "source": [
    "# 5. Stopword Removal\n",
    "stopword_factory = StopWordRemoverFactory()\n",
    "stopword_remover = stopword_factory.create_stop_word_remover()\n",
    "\n",
    "def remove_stopwords(tokens):\n",
    "    return [word for word in stopword_remover.remove(' '.join(tokens)).split()]\n",
    "\n",
    "df_clean['tokens_no_stopwords'] = df_clean['tokens'].apply(remove_stopwords)\n",
    "\n",
    "print(df_clean['tokens_no_stopwords'].head())"
   ]
  },
  {
   "cell_type": "code",
   "execution_count": 15,
   "id": "60ab5eff",
   "metadata": {},
   "outputs": [
    {
     "name": "stdout",
     "output_type": "stream",
     "text": [
      "0    [apk, muas, jauh, calo, tiket, harga, relatif,...\n",
      "1    [rosalia, indah, tanggung, salah, langgan, mes...\n",
      "2          [mantap, kalo, adain, rute, cilegon, lasem]\n",
      "3    [aplikasi, bagus, tolong, paging, screen, hist...\n",
      "4    [apknya, login, via, nomor, telponuntuk, devel...\n",
      "Name: tokens_stemmed, dtype: object\n"
     ]
    }
   ],
   "source": [
    "# 6. Stemming\n",
    "stemmer_factory = StemmerFactory()\n",
    "stemmer = stemmer_factory.create_stemmer()\n",
    "\n",
    "def stem_tokens(tokens):\n",
    "    return [stemmer.stem(word) for word in tokens]\n",
    "\n",
    "df_clean['tokens_stemmed'] = df_clean['tokens_no_stopwords'].apply(stem_tokens)\n",
    "\n",
    "print(df_clean['tokens_stemmed'].head())"
   ]
  },
  {
   "cell_type": "code",
   "execution_count": 17,
   "id": "8f65e6eb",
   "metadata": {},
   "outputs": [
    {
     "name": "stdout",
     "output_type": "stream",
     "text": [
      "\n",
      "--- Perbandingan Teks Asli dan Teks Bersih (5 Data Pertama) ---\n"
     ]
    },
    {
     "data": {
      "text/html": [
       "<div>\n",
       "<style scoped>\n",
       "    .dataframe tbody tr th:only-of-type {\n",
       "        vertical-align: middle;\n",
       "    }\n",
       "\n",
       "    .dataframe tbody tr th {\n",
       "        vertical-align: top;\n",
       "    }\n",
       "\n",
       "    .dataframe thead th {\n",
       "        text-align: right;\n",
       "    }\n",
       "</style>\n",
       "<table border=\"1\" class=\"dataframe\">\n",
       "  <thead>\n",
       "    <tr style=\"text-align: right;\">\n",
       "      <th></th>\n",
       "      <th>content</th>\n",
       "      <th>final_content</th>\n",
       "    </tr>\n",
       "  </thead>\n",
       "  <tbody>\n",
       "    <tr>\n",
       "      <th>0</th>\n",
       "      <td>apk ini cukup memuaskan 1. menjauhi calo tiket...</td>\n",
       "      <td>apk muas jauh calo tiket harga relatif murah t...</td>\n",
       "    </tr>\n",
       "    <tr>\n",
       "      <th>1</th>\n",
       "      <td>pihak rosalia indah tidak bertanggung jawab da...</td>\n",
       "      <td>rosalia indah tanggung salah langgan mesan via...</td>\n",
       "    </tr>\n",
       "    <tr>\n",
       "      <th>2</th>\n",
       "      <td>mantap kalo bisa Adain rute Cilegon lasem</td>\n",
       "      <td>mantap kalo adain rute cilegon lasem</td>\n",
       "    </tr>\n",
       "    <tr>\n",
       "      <th>3</th>\n",
       "      <td>Aplikasinya bagus. Tapi tolong paging di scree...</td>\n",
       "      <td>aplikasi bagus tolong paging screen history di...</td>\n",
       "    </tr>\n",
       "    <tr>\n",
       "      <th>4</th>\n",
       "      <td>apknya tidak bisa login via nomor telpon,untuk...</td>\n",
       "      <td>apknya login via nomor telponuntuk developer baik</td>\n",
       "    </tr>\n",
       "  </tbody>\n",
       "</table>\n",
       "</div>"
      ],
      "text/plain": [
       "                                             content  \\\n",
       "0  apk ini cukup memuaskan 1. menjauhi calo tiket...   \n",
       "1  pihak rosalia indah tidak bertanggung jawab da...   \n",
       "2          mantap kalo bisa Adain rute Cilegon lasem   \n",
       "3  Aplikasinya bagus. Tapi tolong paging di scree...   \n",
       "4  apknya tidak bisa login via nomor telpon,untuk...   \n",
       "\n",
       "                                       final_content  \n",
       "0  apk muas jauh calo tiket harga relatif murah t...  \n",
       "1  rosalia indah tanggung salah langgan mesan via...  \n",
       "2               mantap kalo adain rute cilegon lasem  \n",
       "3  aplikasi bagus tolong paging screen history di...  \n",
       "4  apknya login via nomor telponuntuk developer baik  "
      ]
     },
     "metadata": {},
     "output_type": "display_data"
    },
    {
     "name": "stdout",
     "output_type": "stream",
     "text": [
      "\n",
      "Data yang telah diproses disimpan di 'df_rosaliarev_preprocessed.csv'.\n"
     ]
    }
   ],
   "source": [
    "# --- FINALISASI ---\n",
    "# Gabungkan kembali token menjadi kalimat yang sudah bersih\n",
    "df_clean['final_content'] = df_clean['tokens_stemmed'].apply(lambda x: ' '.join(x))\n",
    "\n",
    "# Tampilkan perbandingan hasil\n",
    "print(\"\\n--- Perbandingan Teks Asli dan Teks Bersih (5 Data Pertama) ---\")\n",
    "display(df_clean[['content', 'final_content']].head())\n",
    "\n",
    "# Checkpoint: Simpan hasil preprocessing ke file CSV baru\n",
    "FILE_OUTPUT_CLEANED = 'df_rosaliarev_preprocessed.csv'\n",
    "df_clean.to_csv(FILE_OUTPUT_CLEANED, index=False)\n",
    "print(f\"\\nData yang telah diproses disimpan di '{FILE_OUTPUT_CLEANED}'.\")"
   ]
  }
 ],
 "metadata": {
  "kernelspec": {
   "display_name": "Python 3",
   "language": "python",
   "name": "python3"
  },
  "language_info": {
   "codemirror_mode": {
    "name": "ipython",
    "version": 3
   },
   "file_extension": ".py",
   "mimetype": "text/x-python",
   "name": "python",
   "nbconvert_exporter": "python",
   "pygments_lexer": "ipython3",
   "version": "3.13.3"
  }
 },
 "nbformat": 4,
 "nbformat_minor": 5
}
