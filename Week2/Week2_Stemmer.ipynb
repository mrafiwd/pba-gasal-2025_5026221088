{
  "nbformat": 4,
  "nbformat_minor": 0,
  "metadata": {
    "colab": {
      "provenance": []
    },
    "kernelspec": {
      "name": "python3",
      "display_name": "Python 3"
    },
    "language_info": {
      "name": "python"
    }
  },
  "cells": [
    {
      "cell_type": "code",
      "execution_count": null,
      "metadata": {
        "colab": {
          "base_uri": "https://localhost:8080/"
        },
        "id": "2RkXg7fQXgaD",
        "outputId": "360f0031-c213-49ec-fa47-af629d0b7dfa"
      },
      "outputs": [
        {
          "output_type": "stream",
          "name": "stderr",
          "text": [
            "[nltk_data] Downloading package punkt to /root/nltk_data...\n",
            "[nltk_data]   Package punkt is already up-to-date!\n",
            "[nltk_data] Downloading package punkt_tab to /root/nltk_data...\n",
            "[nltk_data]   Unzipping tokenizers/punkt_tab.zip.\n"
          ]
        },
        {
          "output_type": "stream",
          "name": "stdout",
          "text": [
            "Original Words: ['I', 'loved', 'natural', 'language', 'processing', 'and', 'running', 'in', 'the', 'park']\n",
            "Stemmed Words: ['i', 'love', 'natur', 'languag', 'process', 'and', 'run', 'in', 'the', 'park']\n"
          ]
        }
      ],
      "source": [
        "import nltk\n",
        "from nltk.stem import PorterStemmer\n",
        "\n",
        "# Download the necessary NLTK data\n",
        "nltk.download('punkt')\n",
        "nltk.download('punkt_tab') # Download the punkt_tab data package\n",
        "\n",
        "# Initialize the Porter Stemmer\n",
        "stemmer = PorterStemmer()\n",
        "\n",
        "# Example sentence\n",
        "sentence = \"I loved natural language processing and running in the park\"\n",
        "\n",
        "# Tokenize the sentence into words\n",
        "words = nltk.word_tokenize(sentence)\n",
        "\n",
        "# Apply stemming to each word\n",
        "stemmed_words = [stemmer.stem(word) for word in words]\n",
        "\n",
        "# Print the original words and their stemmed forms\n",
        "print(\"Original Words:\", words)\n",
        "print(\"Stemmed Words:\", stemmed_words)"
      ]
    },
    {
      "cell_type": "code",
      "source": [
        "from nltk.stem import LancasterStemmer\n",
        "\n",
        "# Initialize the Lancaster Stemmer\n",
        "lancaster_stemmer = LancasterStemmer()\n",
        "\n",
        "# Apply Lancaster stemming to each word\n",
        "lancaster_stemmed_words = [lancaster_stemmer.stem(word) for word in words]\n",
        "\n",
        "print(\"Lancaster Stemmed Words:\", lancaster_stemmed_words)"
      ],
      "metadata": {
        "id": "sb6giHChZEjc",
        "outputId": "41878f71-c97f-4f5f-bbf1-c7f836879f74",
        "colab": {
          "base_uri": "https://localhost:8080/"
        }
      },
      "execution_count": null,
      "outputs": [
        {
          "output_type": "stream",
          "name": "stdout",
          "text": [
            "Lancaster Stemmed Words: ['i', 'lov', 'nat', 'langu', 'process', 'and', 'run', 'in', 'the', 'park']\n"
          ]
        }
      ]
    }
  ]
}