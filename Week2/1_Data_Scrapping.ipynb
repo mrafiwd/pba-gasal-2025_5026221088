{
 "cells": [
  {
   "cell_type": "code",
   "execution_count": 1,
   "id": "b7471117",
   "metadata": {},
   "outputs": [],
   "source": [
    "# Instalasi Library\n",
    "!pip install google-play-scraper pandas -q"
   ]
  },
  {
   "cell_type": "code",
   "execution_count": 2,
   "id": "23dafe0a",
   "metadata": {},
   "outputs": [
    {
     "name": "stdout",
     "output_type": "stream",
     "text": [
      "Library berhasil diimpor.\n"
     ]
    }
   ],
   "source": [
    "# Impor Library\n",
    "import pandas as pd\n",
    "from google_play_scraper import reviews_all, Sort\n",
    "print(\"Library berhasil diimpor.\")"
   ]
  },
  {
   "cell_type": "code",
   "execution_count": 3,
   "id": "06be1378",
   "metadata": {},
   "outputs": [
    {
     "name": "stdout",
     "output_type": "stream",
     "text": [
      "Memulai scrapping untuk aplikasi: com.rosalia.indah...\n"
     ]
    }
   ],
   "source": [
    "# Lakukan Scraping\n",
    "# Ganti dengan ID aplikasi Rosalia Indah Transport\n",
    "APP_ID = 'com.rosalia.indah'\n",
    "FILE_OUTPUT_RAW = 'df_rosaliarev_raw.csv'\n",
    "\n",
    "print(f\"Memulai scrapping untuk aplikasi: {APP_ID}...\")\n",
    "\n",
    "# Mengambil semua ulasan\n",
    "scraped_reviews = reviews_all(\n",
    "    APP_ID,\n",
    "    lang='id',\n",
    "    country='id',\n",
    "    sort=Sort.NEWEST,\n",
    ")\n",
    "\n",
    "# Konversi ke DataFrame\n",
    "df = pd.DataFrame(scraped_reviews)"
   ]
  },
  {
   "cell_type": "code",
   "execution_count": 4,
   "id": "a7de594c",
   "metadata": {},
   "outputs": [
    {
     "name": "stdout",
     "output_type": "stream",
     "text": [
      "<class 'pandas.core.frame.DataFrame'>\n",
      "RangeIndex: 3928 entries, 0 to 3927\n",
      "Data columns (total 11 columns):\n",
      " #   Column                Non-Null Count  Dtype         \n",
      "---  ------                --------------  -----         \n",
      " 0   reviewId              3928 non-null   object        \n",
      " 1   userName              3928 non-null   object        \n",
      " 2   userImage             3928 non-null   object        \n",
      " 3   content               3928 non-null   object        \n",
      " 4   score                 3928 non-null   int64         \n",
      " 5   thumbsUpCount         3928 non-null   int64         \n",
      " 6   reviewCreatedVersion  3100 non-null   object        \n",
      " 7   at                    3928 non-null   datetime64[ns]\n",
      " 8   replyContent          0 non-null      object        \n",
      " 9   repliedAt             0 non-null      object        \n",
      " 10  appVersion            3100 non-null   object        \n",
      "dtypes: datetime64[ns](1), int64(2), object(8)\n",
      "memory usage: 337.7+ KB\n"
     ]
    }
   ],
   "source": [
    "df.info()"
   ]
  },
  {
   "cell_type": "code",
   "execution_count": 5,
   "id": "b528e45d",
   "metadata": {},
   "outputs": [
    {
     "name": "stdout",
     "output_type": "stream",
     "text": [
      "Scraping selesai. 3928 ulasan berhasil disimpan di 'df_rosaliarev_raw.csv'.\n"
     ]
    }
   ],
   "source": [
    "# Pilih hanya kolom yang relevan\n",
    "relevant_columns = ['content', 'score', 'thumbsUpCount', 'reviewCreatedVersion', 'at']\n",
    "df = df[relevant_columns]\n",
    "\n",
    "#Simpan ke File CSV\n",
    "df.to_csv(FILE_OUTPUT_RAW, index=False)\n",
    "print(f\"Scraping selesai. {len(df)} ulasan berhasil disimpan di '{FILE_OUTPUT_RAW}'.\")"
   ]
  },
  {
   "cell_type": "code",
   "execution_count": 6,
   "id": "27ffa779",
   "metadata": {},
   "outputs": [
    {
     "name": "stdout",
     "output_type": "stream",
     "text": [
      "\n",
      "Contoh 5 data mentah pertama:\n"
     ]
    },
    {
     "data": {
      "text/html": [
       "<div>\n",
       "<style scoped>\n",
       "    .dataframe tbody tr th:only-of-type {\n",
       "        vertical-align: middle;\n",
       "    }\n",
       "\n",
       "    .dataframe tbody tr th {\n",
       "        vertical-align: top;\n",
       "    }\n",
       "\n",
       "    .dataframe thead th {\n",
       "        text-align: right;\n",
       "    }\n",
       "</style>\n",
       "<table border=\"1\" class=\"dataframe\">\n",
       "  <thead>\n",
       "    <tr style=\"text-align: right;\">\n",
       "      <th></th>\n",
       "      <th>content</th>\n",
       "      <th>score</th>\n",
       "      <th>thumbsUpCount</th>\n",
       "      <th>reviewCreatedVersion</th>\n",
       "      <th>at</th>\n",
       "    </tr>\n",
       "  </thead>\n",
       "  <tbody>\n",
       "    <tr>\n",
       "      <th>0</th>\n",
       "      <td>apk ini cukup memuaskan 1. menjauhi calo tiket...</td>\n",
       "      <td>5</td>\n",
       "      <td>0</td>\n",
       "      <td>2.16.0</td>\n",
       "      <td>2025-09-21 12:59:22</td>\n",
       "    </tr>\n",
       "    <tr>\n",
       "      <th>1</th>\n",
       "      <td>pihak rosalia indah tidak bertanggung jawab da...</td>\n",
       "      <td>1</td>\n",
       "      <td>0</td>\n",
       "      <td>None</td>\n",
       "      <td>2025-09-21 03:14:45</td>\n",
       "    </tr>\n",
       "    <tr>\n",
       "      <th>2</th>\n",
       "      <td>mantap kalo bisa Adain rute Cilegon lasem</td>\n",
       "      <td>5</td>\n",
       "      <td>0</td>\n",
       "      <td>2.13.0</td>\n",
       "      <td>2025-09-18 23:33:47</td>\n",
       "    </tr>\n",
       "    <tr>\n",
       "      <th>3</th>\n",
       "      <td>Aplikasinya bagus. Tapi tolong paging di scree...</td>\n",
       "      <td>2</td>\n",
       "      <td>0</td>\n",
       "      <td>2.16.0</td>\n",
       "      <td>2025-09-15 18:01:52</td>\n",
       "    </tr>\n",
       "    <tr>\n",
       "      <th>4</th>\n",
       "      <td>apknya tidak bisa login via nomor telpon,untuk...</td>\n",
       "      <td>3</td>\n",
       "      <td>0</td>\n",
       "      <td>None</td>\n",
       "      <td>2025-09-14 20:26:29</td>\n",
       "    </tr>\n",
       "  </tbody>\n",
       "</table>\n",
       "</div>"
      ],
      "text/plain": [
       "                                             content  score  thumbsUpCount  \\\n",
       "0  apk ini cukup memuaskan 1. menjauhi calo tiket...      5              0   \n",
       "1  pihak rosalia indah tidak bertanggung jawab da...      1              0   \n",
       "2          mantap kalo bisa Adain rute Cilegon lasem      5              0   \n",
       "3  Aplikasinya bagus. Tapi tolong paging di scree...      2              0   \n",
       "4  apknya tidak bisa login via nomor telpon,untuk...      3              0   \n",
       "\n",
       "  reviewCreatedVersion                  at  \n",
       "0               2.16.0 2025-09-21 12:59:22  \n",
       "1                 None 2025-09-21 03:14:45  \n",
       "2               2.13.0 2025-09-18 23:33:47  \n",
       "3               2.16.0 2025-09-15 18:01:52  \n",
       "4                 None 2025-09-14 20:26:29  "
      ]
     },
     "metadata": {},
     "output_type": "display_data"
    }
   ],
   "source": [
    "# Tampilkan 5 data pertama untuk verifikasi\n",
    "print(\"\\nContoh 5 data mentah pertama:\")\n",
    "display(df.head())"
   ]
  }
 ],
 "metadata": {
  "kernelspec": {
   "display_name": "Python 3",
   "language": "python",
   "name": "python3"
  },
  "language_info": {
   "codemirror_mode": {
    "name": "ipython",
    "version": 3
   },
   "file_extension": ".py",
   "mimetype": "text/x-python",
   "name": "python",
   "nbconvert_exporter": "python",
   "pygments_lexer": "ipython3",
   "version": "3.13.3"
  }
 },
 "nbformat": 4,
 "nbformat_minor": 5
}
