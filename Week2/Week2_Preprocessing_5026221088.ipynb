{
  "nbformat": 4,
  "nbformat_minor": 0,
  "metadata": {
    "colab": {
      "provenance": []
    },
    "kernelspec": {
      "name": "python3",
      "display_name": "Python 3"
    },
    "language_info": {
      "name": "python"
    }
  },
  "cells": [
    {
      "cell_type": "markdown",
      "source": [
        "###NLP Pipeline - Data Preprocessing\n",
        "Week 2 NLP Pipeline PBA/ Genap 2025/ Irmasari Hafidz irma@its.ac.id\n",
        "\n",
        "* Punctuations Removal\n",
        "* Expand Contractions\n",
        "* Spelling Correction\n",
        "* Rare Words Removal\n",
        "* Common Words Removal\n",
        "\n"
      ],
      "metadata": {
        "id": "ewzJb-jHk0Aw"
      }
    },
    {
      "cell_type": "code",
      "execution_count": null,
      "metadata": {
        "colab": {
          "base_uri": "https://localhost:8080/"
        },
        "id": "v3IaqtwAksni",
        "outputId": "c949204d-8d63-4984-8a83-b24f971689d8"
      },
      "outputs": [
        {
          "output_type": "stream",
          "name": "stdout",
          "text": [
            "Hello world Hows it going\n"
          ]
        }
      ],
      "source": [
        "import re\n",
        "\n",
        "def remove_punctuation(text):\n",
        "    return re.sub(r'[^\\w\\s]', '', text)\n",
        "\n",
        "text = \"Hello, world! How's it going?\"\n",
        "print(remove_punctuation(text))"
      ]
    },
    {
      "cell_type": "code",
      "source": [
        "!pip install contractions\n",
        "from contractions import fix\n",
        "\n",
        "def expand_contractions(text):\n",
        "    return fix(text)\n",
        "\n",
        "text = \"I'll be running to the store, but I don't know if it's open.\""
      ],
      "metadata": {
        "colab": {
          "base_uri": "https://localhost:8080/"
        },
        "collapsed": true,
        "id": "vIxfXRlrl-zi",
        "outputId": "157627e1-2b98-43dd-d77c-55d1064d1868"
      },
      "execution_count": null,
      "outputs": [
        {
          "output_type": "stream",
          "name": "stdout",
          "text": [
            "Requirement already satisfied: contractions in /usr/local/lib/python3.11/dist-packages (0.1.73)\n",
            "Requirement already satisfied: textsearch>=0.0.21 in /usr/local/lib/python3.11/dist-packages (from contractions) (0.0.24)\n",
            "Requirement already satisfied: anyascii in /usr/local/lib/python3.11/dist-packages (from textsearch>=0.0.21->contractions) (0.3.2)\n",
            "Requirement already satisfied: pyahocorasick in /usr/local/lib/python3.11/dist-packages (from textsearch>=0.0.21->contractions) (2.1.0)\n"
          ]
        }
      ]
    },
    {
      "cell_type": "code",
      "source": [
        "print(expand_contractions(text))"
      ],
      "metadata": {
        "colab": {
          "base_uri": "https://localhost:8080/"
        },
        "id": "6hhUDTtxmLLu",
        "outputId": "b7b02cac-8d57-42ad-ae0e-9980df058fc0"
      },
      "execution_count": null,
      "outputs": [
        {
          "output_type": "stream",
          "name": "stdout",
          "text": [
            "I will be running to the store, but I do not know if it is open.\n"
          ]
        }
      ]
    },
    {
      "cell_type": "code",
      "source": [
        "from textblob import TextBlob\n",
        "\n",
        "def correct_spelling(text):\n",
        "    return str(TextBlob(text).correct())\n",
        "\n",
        "text = \"I am hapy to meet yu.\"\n",
        "print(correct_spelling(text))"
      ],
      "metadata": {
        "colab": {
          "base_uri": "https://localhost:8080/"
        },
        "id": "DGYFkLA5mhXw",
        "outputId": "52732a7f-69c1-4922-b264-cd1b95ac19ce"
      },
      "execution_count": null,
      "outputs": [
        {
          "output_type": "stream",
          "name": "stdout",
          "text": [
            "I am happy to meet you.\n"
          ]
        }
      ]
    },
    {
      "cell_type": "code",
      "source": [
        "from collections import Counter\n",
        "\n",
        "def remove_rare_words(words, threshold=1):\n",
        "    word_counts = Counter(words)\n",
        "    return [word for word in words if word_counts[word] > threshold]\n",
        "\n",
        "words = [\"apple\", \"quizzaciously\", \"dog\", \"hitherto\", \"supercalifragilisticexpialidocious\", \"apple\", \"dog\"]\n",
        "print(remove_rare_words(words))"
      ],
      "metadata": {
        "colab": {
          "base_uri": "https://localhost:8080/"
        },
        "id": "i4n4QXJWm9bo",
        "outputId": "2b0f84f4-3646-42fe-97c0-31c023b5152a"
      },
      "execution_count": null,
      "outputs": [
        {
          "output_type": "stream",
          "name": "stdout",
          "text": [
            "['apple', 'dog', 'apple', 'dog']\n"
          ]
        }
      ]
    },
    {
      "cell_type": "code",
      "source": [
        "common_words = {\"the\", \"is\", \"has\", \"patient\", \"disease\"}\n",
        "\n",
        "def remove_common_words(words, common_words):\n",
        "    return [word for word in words if word not in common_words]\n",
        "\n",
        "words = [\"patient\", \"disease\", \"is\", \"the\", \"cancer\", \"has\"]\n",
        "print(remove_common_words(words, common_words))"
      ],
      "metadata": {
        "id": "wcneWl6un2pg",
        "outputId": "b7f8e1d0-f513-455a-c9ec-17ac059f3000",
        "colab": {
          "base_uri": "https://localhost:8080/"
        }
      },
      "execution_count": null,
      "outputs": [
        {
          "output_type": "stream",
          "name": "stdout",
          "text": [
            "['cancer']\n"
          ]
        }
      ]
    }
  ]
}